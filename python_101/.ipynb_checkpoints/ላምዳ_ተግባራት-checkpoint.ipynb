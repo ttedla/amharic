{
 "cells": [
  {
   "cell_type": "markdown",
   "metadata": {},
   "source": [
    "# ላምዳ ተግባር"
   ]
  },
  {
   "cell_type": "markdown",
   "metadata": {},
   "source": [
    "ስም አልባ ከሆኑት የፓይተን ተግባራት አንዱ ነው። እንዴት ጥቅም ላይ እንደሚውል በምሳሌ እንመልከት። "
   ]
  },
  {
   "cell_type": "code",
   "execution_count": 1,
   "metadata": {},
   "outputs": [],
   "source": [
    "# ሁለት ቁጥሮችን የሚደምር መደበኛ የፓይተን ተግባር እንመልከት \n",
    "def ደምር (ሀ, ለ):\n",
    "    return ሀ+ለ "
   ]
  },
  {
   "cell_type": "code",
   "execution_count": 7,
   "metadata": {},
   "outputs": [
    {
     "data": {
      "text/plain": [
       "25"
      ]
     },
     "execution_count": 7,
     "metadata": {},
     "output_type": "execute_result"
    }
   ],
   "source": [
    "# ተግባሩን መጥራት\n",
    "ደምር (10, 15)"
   ]
  },
  {
   "cell_type": "code",
   "execution_count": 4,
   "metadata": {},
   "outputs": [],
   "source": [
    "#ላምዳን በመጠቀም \n",
    "# ሀ እና ለ ልኬት (አርጉመንት ናቸው)\n",
    "# ሀ+ለ ልኬቶቹ ላይ የሚደረገው ተግባር (መደመር ነው በዚህ ምሳሌ)\n",
    "ደምር_ላምዳ = lambda ሀ,ለ: ሀ+ለ "
   ]
  },
  {
   "cell_type": "code",
   "execution_count": 8,
   "metadata": {},
   "outputs": [
    {
     "data": {
      "text/plain": [
       "25"
      ]
     },
     "execution_count": 8,
     "metadata": {},
     "output_type": "execute_result"
    }
   ],
   "source": [
    "# ላምዳ ተግባሩን መጥራት \n",
    "ደምር_ላምዳ(10, 15)"
   ]
  },
  {
   "cell_type": "markdown",
   "metadata": {},
   "source": [
    "## ቁጥሮችን ማቀያየር (ስዋፕ)"
   ]
  },
  {
   "cell_type": "code",
   "execution_count": 14,
   "metadata": {},
   "outputs": [],
   "source": [
    "# ሀ እና ለን የወስድና ለ እና ሀን የመልሳል \n",
    "ማቀያየር = lambda ሀ,ለ:(ለ,ሀ)  "
   ]
  },
  {
   "cell_type": "code",
   "execution_count": 15,
   "metadata": {},
   "outputs": [
    {
     "data": {
      "text/plain": [
       "(15, 10)"
      ]
     },
     "execution_count": 15,
     "metadata": {},
     "output_type": "execute_result"
    }
   ],
   "source": [
    "# ማቀያየርን በተግባር \n",
    "ማቀያየር(10, 15)"
   ]
  },
  {
   "cell_type": "markdown",
   "metadata": {},
   "source": [
    "## ትልቁን ቁጥር መመለስ "
   ]
  },
  {
   "cell_type": "markdown",
   "metadata": {},
   "source": [
    "### ሁለት ቁጥሮች"
   ]
  },
  {
   "cell_type": "code",
   "execution_count": 16,
   "metadata": {},
   "outputs": [],
   "source": [
    "# ትልቁን ቁጥር ከሁለት ቁጥሮች መካከል ለይቶ መመለስ \n",
    "ትልቁ = lambda ሀ, ለ: ሀ if ሀ>ለ else ለ "
   ]
  },
  {
   "cell_type": "code",
   "execution_count": 17,
   "metadata": {},
   "outputs": [
    {
     "data": {
      "text/plain": [
       "15"
      ]
     },
     "execution_count": 17,
     "metadata": {},
     "output_type": "execute_result"
    }
   ],
   "source": [
    "ትልቁ(10, 15)"
   ]
  },
  {
   "cell_type": "markdown",
   "metadata": {},
   "source": [
    "### ከሁለት በላይ ቁጥሮች"
   ]
  },
  {
   "cell_type": "code",
   "execution_count": 86,
   "metadata": {},
   "outputs": [],
   "source": [
    "#ከሁለት በላይ ወይም ከዝርዝር ላይ መመለስ \n",
    "አ = [1,2,3,4,4,10,13,4]\n",
    "ትልቁ_ላምዳ = lambda ሀ: max(ሀ)"
   ]
  },
  {
   "cell_type": "code",
   "execution_count": 87,
   "metadata": {},
   "outputs": [
    {
     "data": {
      "text/plain": [
       "13"
      ]
     },
     "execution_count": 87,
     "metadata": {},
     "output_type": "execute_result"
    }
   ],
   "source": [
    "ትልቁ_ላምዳ(አ)"
   ]
  },
  {
   "cell_type": "markdown",
   "metadata": {},
   "source": [
    "### ተደጋጋሚውን መለየት"
   ]
  },
  {
   "cell_type": "markdown",
   "metadata": {},
   "source": [
    "ተደጋጋሚውን ለመለየት ቁጥሮቹን እና ምን ያህል እንደተደጋገሙ ካወቅን ቦኋላ ተደጋጋሚው ትልቅ የሆነው ማውጣት ነው።"
   ]
  },
  {
   "cell_type": "code",
   "execution_count": 113,
   "metadata": {},
   "outputs": [],
   "source": [
    "# ሴት ልዩ የሆነውን እሴት ይመልስልናል። \n",
    "# ለትልቅ ፈላጊው ተግባር (ማክስ) ስናስተላልፍ እንደቁልፍ ቁጥሩን እንዲጠቀም መጠየቅ።  \n",
    "ተደጋጋሚው_ላምዳ= lambda ሀ: max(set(ሀ), key=ሀ.count)"
   ]
  },
  {
   "cell_type": "code",
   "execution_count": 114,
   "metadata": {},
   "outputs": [
    {
     "data": {
      "text/plain": [
       "4"
      ]
     },
     "execution_count": 114,
     "metadata": {},
     "output_type": "execute_result"
    }
   ],
   "source": [
    "ተደጋጋሚው_ላምዳ(አ)"
   ]
  },
  {
   "cell_type": "markdown",
   "metadata": {},
   "source": [
    "ቁልፍን በ ትልቁ(ማክስ) ተግባር ለማስረዳት የሚከተለውን ምሳሌ ተመልከቱ።"
   ]
  },
  {
   "cell_type": "code",
   "execution_count": 83,
   "metadata": {},
   "outputs": [],
   "source": [
    "# ቁልፍን በ ማክስ ለማስረዳት \n",
    "አ = [1,2,3,4,10]\n",
    "በ = [1,1,1,1,1,1,1,1,2]"
   ]
  },
  {
   "cell_type": "code",
   "execution_count": 84,
   "metadata": {},
   "outputs": [
    {
     "data": {
      "text/plain": [
       "[1, 2, 3, 4, 10]"
      ]
     },
     "execution_count": 84,
     "metadata": {},
     "output_type": "execute_result"
    }
   ],
   "source": [
    "# በነባሪው አ እና በን እያነጻጸረ ትልቅ የሆነውን ዝርዝር ይመልስልናል። \n",
    "max(አ,በ)"
   ]
  },
  {
   "cell_type": "code",
   "execution_count": 85,
   "metadata": {},
   "outputs": [
    {
     "data": {
      "text/plain": [
       "[1, 1, 1, 1, 1, 1, 1, 1, 2]"
      ]
     },
     "execution_count": 85,
     "metadata": {},
     "output_type": "execute_result"
    }
   ],
   "source": [
    "# ማነጻጸሪያ ቁልፉን ለምሳሌ እርዝመታቸውን ብናደርገው የሚከተለውን እናገኛለን። \n",
    "max(አ, በ, key=len)"
   ]
  },
  {
   "cell_type": "code",
   "execution_count": null,
   "metadata": {},
   "outputs": [],
   "source": [
    "Lambda, Map, Filter, Reduce Functions"
   ]
  }
 ],
 "metadata": {
  "kernelspec": {
   "display_name": "Python 3",
   "language": "python",
   "name": "python3"
  },
  "language_info": {
   "codemirror_mode": {
    "name": "ipython",
    "version": 3
   },
   "file_extension": ".py",
   "mimetype": "text/x-python",
   "name": "python",
   "nbconvert_exporter": "python",
   "pygments_lexer": "ipython3",
   "version": "3.6.7"
  }
 },
 "nbformat": 4,
 "nbformat_minor": 2
}
