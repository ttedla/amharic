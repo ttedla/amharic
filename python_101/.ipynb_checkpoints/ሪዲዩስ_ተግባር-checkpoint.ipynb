{
 "cells": [
  {
   "cell_type": "markdown",
   "metadata": {},
   "source": [
    "# መግቢያ"
   ]
  },
  {
   "cell_type": "markdown",
   "metadata": {},
   "source": [
    "ዝርዝር ላይ ቀመር ሰርቶ ውጤቱን የሚመልስ ተግባር ነው። ጥንድ የሆኑ እሴቶችን በቀጣይነት በመተግበር ውጤቱን መቀመር ይቻላል። ሪዲዩስ በ `functools` የሚገኝ ተግባር ነው። በመሆኑም ከመጠቀማችን በፊት አቃፊውን መጥራት ይኖርብናል።  "
   ]
  },
  {
   "cell_type": "code",
   "execution_count": 1,
   "metadata": {},
   "outputs": [],
   "source": [
    "# ሪዲዩስን ከአቃፊው ለመጥራት  \n",
    "from functools import reduce"
   ]
  },
  {
   "cell_type": "markdown",
   "metadata": {},
   "source": [
    "# ምሳሌ ፩"
   ]
  },
  {
   "cell_type": "markdown",
   "metadata": {},
   "source": [
    "ከአንድ እስከ መቶ ያሉትን ቁጥሮች ማባዛት ብንፈልግ እንደሚከተለው ሪዲዩስን ከ ላምዳ ጋር በመጠቀም መቀመር እንችላለን"
   ]
  },
  {
   "cell_type": "code",
   "execution_count": 3,
   "metadata": {},
   "outputs": [
    {
     "data": {
      "text/plain": [
       "93326215443944152681699238856266700490715968264381621468592963895217599993229915608941463976156518286253697920827223758251185210916864000000000000000000000000"
      ]
     },
     "execution_count": 3,
     "metadata": {},
     "output_type": "execute_result"
    }
   ],
   "source": [
    "# ከአንድ እስከመቶ ያሉትን ቁጥሮች በዝርዝር እናስቀምጥ \n",
    "ውሂብ = list(range(1,101))\n",
    "አባዚው_ላምዳ = lambda ሀ,ለ: ሀ*ለ\n",
    "reduce(አባዚው_ላምዳ, ውሂብ)"
   ]
  },
  {
   "cell_type": "markdown",
   "metadata": {},
   "source": [
    "# ምሳሌ ፪"
   ]
  },
  {
   "cell_type": "markdown",
   "metadata": {},
   "source": [
    "እስከመቶ ያሉትን ፕራይም ቁጥሮች መደመር ብንፈልግ እንደሚከተለው ሪዲዩስን በመጠቀም መቀመር እንችላለን። "
   ]
  },
  {
   "cell_type": "code",
   "execution_count": 6,
   "metadata": {},
   "outputs": [
    {
     "data": {
      "text/plain": [
       "1060"
      ]
     },
     "execution_count": 6,
     "metadata": {},
     "output_type": "execute_result"
    }
   ],
   "source": [
    "# እስከ መቶ ያሉትን ፕራይም ቁጥሮች የሚቀምር ተግባር \n",
    "def ፕራይም(ቁጥር):  \n",
    "    \n",
    "    # ዝርዝር\n",
    "    ፕራይሞች = []\n",
    "    for ፕራይም_ሊሆኑ_የሚችሉ in range(2, ቁጥር+1):\n",
    "        # ሁሉም ፕራይም ናቸው ብለን እንነሳ። ፕራይም አለመሆናቸውን እስክናረጋግጥ። \n",
    "        ፕራይምነው = True\n",
    "        for ቁ in range(2, int(ፕራይም_ሊሆኑ_የሚችሉ ** 0.5) + 1):\n",
    "            if ፕራይም_ሊሆኑ_የሚችሉ % ቁ == 0:\n",
    "                ፕራይምነው = False\n",
    "                break\n",
    "        if ፕራይምነው:\n",
    "            ፕራይሞች.append(ፕራይም_ሊሆኑ_የሚችሉ)\n",
    "    \n",
    "    return(ፕራይሞች)\n",
    "\n",
    "ደማሪ_ላምዳ = lambda ሀ,ለ: ሀ+ለ\n",
    "reduce(ደማሪ_ላምዳ, ፕራይም(100))"
   ]
  },
  {
   "cell_type": "markdown",
   "metadata": {},
   "source": [
    "# ማጠቃለያ"
   ]
  },
  {
   "cell_type": "markdown",
   "metadata": {},
   "source": [
    "ሪዲዩስ ሰብሳብ ወይም አጠቃላይ እንደማለት ነው። የምንፈልገውን ዝርዝር ቀምረን አንድ እሴት አጠቃለን ለማውጣት የሚረዳ ነው። ከላምዳ ተግባር ጋር በጋራ ውስብስብ ቀመሮችን ለማቃለል ያስችላል። "
   ]
  }
 ],
 "metadata": {
  "kernelspec": {
   "display_name": "Python 3",
   "language": "python",
   "name": "python3"
  },
  "language_info": {
   "codemirror_mode": {
    "name": "ipython",
    "version": 3
   },
   "file_extension": ".py",
   "mimetype": "text/x-python",
   "name": "python",
   "nbconvert_exporter": "python",
   "pygments_lexer": "ipython3",
   "version": "3.6.7"
  }
 },
 "nbformat": 4,
 "nbformat_minor": 2
}
