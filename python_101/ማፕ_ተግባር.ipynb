{
 "cells": [
  {
   "cell_type": "markdown",
   "metadata": {},
   "source": [
    "# መግቢያ"
   ]
  },
  {
   "cell_type": "markdown",
   "metadata": {},
   "source": [
    "የምንፈልገውን ተግባር ለምሳሌ በዝርዝር እያንዳንዱ እሴት ላይ መተግበር ብንፈልግ ማፕን መጠቀም እንችላለን።\n",
    "*** \n",
    "ምሳሌ ፩፡ `ዝ=['1','2','3']`\n",
    "\n",
    "ምሳሌ ፪፡ `ቁ=[1,2,3]`\n",
    "\n",
    "ሁለቱን ምሳሌ ብንመለከት ሁለቱን ሦስት ነገሮችን ይዘዋል። የመጀመሪያው ሕብረቁምፊ የያዘ ሲሆን፤ ሁለተኛው ቁጥር (ኢንቲጀር) የያዘ ነው። የማፕ ጥቅም ምሳሌ አንድ ላይ ያሉትን ሕብረቁምፊ እያንዳንዳቸውን ወደቁጥር መቀየር እንችላለን። ያ ማለትም የቁጥርን ተግባር በእያንዳንዳንዱ ሕብረቁምፊ ላይ ተገበርን ማለት ነው። በሁለተኛው ምሳሌ እያንዳንዱን ቁጥር በራሱ መልሰን ማብዛት ብንፈልግ ማፕን እንዲሁ መጠቀም እንችላለን ማለት ነው። \n",
    "*** \n",
    "\n",
    "የማፕ መሰረታዊ ቀመር `map(ተግባር,ዝርዝር)` ዝርዝር ያልኩት ለምሳሌ ያህል እንጂ ማንኛውም በፓይተን ቋንቋ አይተረብል (ተሽከርካሪ) የሆነ ላይ መተግበር እንችላለን። "
   ]
  },
  {
   "cell_type": "markdown",
   "metadata": {},
   "source": [
    "# ምሳሌ ፩"
   ]
  },
  {
   "cell_type": "code",
   "execution_count": 1,
   "metadata": {},
   "outputs": [
    {
     "data": {
      "text/plain": [
       "list"
      ]
     },
     "execution_count": 1,
     "metadata": {},
     "output_type": "execute_result"
    }
   ],
   "source": [
    "# ከላይ ዝ በሚል የጠቀስነውን የሕብረቁምፊ ዝርዝር ወደቁጥር እንቀይረው\n",
    "ዝ=['1','2','3']\n",
    "type(ዝ)"
   ]
  },
  {
   "cell_type": "code",
   "execution_count": 3,
   "metadata": {},
   "outputs": [
    {
     "data": {
      "text/plain": [
       "str"
      ]
     },
     "execution_count": 3,
     "metadata": {},
     "output_type": "execute_result"
    }
   ],
   "source": [
    "# የትልቁን አይነት ለይተን እንመልከት \n",
    "type(max(ዝ))"
   ]
  },
  {
   "cell_type": "code",
   "execution_count": 29,
   "metadata": {},
   "outputs": [],
   "source": [
    "# ወደ ቁጥር ማፕ እናድርገው \n",
    "ዝ_ቁጥር = map(int, ዝ)"
   ]
  },
  {
   "cell_type": "code",
   "execution_count": 30,
   "metadata": {},
   "outputs": [
    {
     "data": {
      "text/plain": [
       "int"
      ]
     },
     "execution_count": 30,
     "metadata": {},
     "output_type": "execute_result"
    }
   ],
   "source": [
    "type(max(ዝ_ቁጥር))"
   ]
  },
  {
   "cell_type": "code",
   "execution_count": 31,
   "metadata": {},
   "outputs": [
    {
     "data": {
      "text/plain": [
       "3"
      ]
     },
     "execution_count": 31,
     "metadata": {},
     "output_type": "execute_result"
    }
   ],
   "source": [
    "# ተመሳሳይ ምልከታ ለማድረግ \n",
    "len(list(map(int, ዝ)))"
   ]
  },
  {
   "cell_type": "code",
   "execution_count": 32,
   "metadata": {},
   "outputs": [
    {
     "data": {
      "text/plain": [
       "[1, 2, 3]"
      ]
     },
     "execution_count": 32,
     "metadata": {},
     "output_type": "execute_result"
    }
   ],
   "source": [
    "# እያንዳንዱን እሴት ለማየት \n",
    "list(map(int, ዝ))"
   ]
  },
  {
   "cell_type": "code",
   "execution_count": 33,
   "metadata": {},
   "outputs": [
    {
     "data": {
      "text/plain": [
       "[1, 2, 3]"
      ]
     },
     "execution_count": 33,
     "metadata": {},
     "output_type": "execute_result"
    }
   ],
   "source": [
    "# ሊስት ኮምፕርሄንሽን በመጠቀም ከላይ የሰራነውን መስራት እንችላለን። \n",
    "[int(ሀ) for ሀ  in ዝ]"
   ]
  },
  {
   "cell_type": "markdown",
   "metadata": {},
   "source": [
    "# ምሳሌ ፪"
   ]
  },
  {
   "cell_type": "code",
   "execution_count": 34,
   "metadata": {},
   "outputs": [
    {
     "data": {
      "text/plain": [
       "[1, 4, 9]"
      ]
     },
     "execution_count": 34,
     "metadata": {},
     "output_type": "execute_result"
    }
   ],
   "source": [
    "#በ 'ቁ' የተመለከተውን ዝርዝር በራሱ ለማባዛት\n",
    "ቁ=[1,2,3]\n",
    "\n",
    "# ሊስት ኮምፕርሄንሽንን በመጠቀም \n",
    "[ሀ*ሀ for ሀ in ቁ ]"
   ]
  },
  {
   "cell_type": "code",
   "execution_count": 40,
   "metadata": {},
   "outputs": [
    {
     "data": {
      "text/plain": [
       "<map at 0x7efd4817d470>"
      ]
     },
     "execution_count": 40,
     "metadata": {},
     "output_type": "execute_result"
    }
   ],
   "source": [
    "# ማፕን ከላምዳ ጋር በመጠቀም \n",
    "map((lambda ሀ: ሀ*ሀ), ቁ)"
   ]
  },
  {
   "cell_type": "code",
   "execution_count": 39,
   "metadata": {},
   "outputs": [
    {
     "data": {
      "text/plain": [
       "[1, 4, 9]"
      ]
     },
     "execution_count": 39,
     "metadata": {},
     "output_type": "execute_result"
    }
   ],
   "source": [
    "# እሴቶቹን ለማየት \n",
    "list(map((lambda ሀ: ሀ*ሀ), ቁ))"
   ]
  },
  {
   "cell_type": "markdown",
   "metadata": {},
   "source": [
    "# የተግባር ዝርዝሮችን መጠቀም"
   ]
  },
  {
   "cell_type": "markdown",
   "metadata": {},
   "source": [
    "ከላይ የተመለከተነው ምሳሌ ማፕ(ተግባር, ዝርዝር) በሚል ነው። ዝርዝር ያልነው ነጠላ የሆነ ተሽከርካሪ(አይተረብል) የሆነ ነው። በዚህ ክፍል ዝርዝር እራሱ የተግባር ዝርዝር መሆን ይችላል። በምሳሌ እንመልከት። "
   ]
  },
  {
   "cell_type": "code",
   "execution_count": 43,
   "metadata": {},
   "outputs": [],
   "source": [
    "# ሦስት ተግባሮችን እንጻፍ \n",
    "def  ካሬ(ሀ):\n",
    "    \"\"\" የልኬቱን ካሬ ወይም ስክዌር ይመልሳል\"\"\"\n",
    "    return ሀ**2\n",
    "\n",
    "def  ኩብ(ሀ):\n",
    "    \"\"\"የልኬቱን ኩብ ወይም በሦስት ስክዌር ይመልሳል\"\"\"\n",
    "    return ሀ**3\n",
    "\n",
    "def  ፋክቶሪያል(ሀ):\n",
    "    \"\"\"የልኬቱን ፋክቶሪያል ይመልሳል\"\"\"\n",
    "    if ሀ == 0:\n",
    "        return 1\n",
    "    else:\n",
    "        return ሀ * ፋክቶሪያል(ሀ-1)"
   ]
  },
  {
   "cell_type": "code",
   "execution_count": 49,
   "metadata": {},
   "outputs": [
    {
     "name": "stdout",
     "output_type": "stream",
     "text": [
      "[0, 0, 1]\n",
      "[1, 1, 1]\n",
      "[4, 8, 2]\n",
      "[9, 27, 6]\n",
      "[16, 64, 24]\n",
      "[25, 125, 120]\n",
      "[36, 216, 720]\n",
      "[49, 343, 5040]\n",
      "[64, 512, 40320]\n",
      "[81, 729, 362880]\n",
      "[100, 1000, 3628800]\n"
     ]
    }
   ],
   "source": [
    "# የተግባር ዝርዝሮች \n",
    "ተግባር_ዝርዝር = [ካሬ, ኩብ, ፋክቶሪያል]\n",
    "# ከ ዜሮ እስከ 10 ያሉትን ቁጥሮች ካሬ ኩዩብ እና ፋክቶሪያላቸውን ማተም ብንፈልግ፡>\n",
    "# ወደተግባር ዝርዝሮቹ ማለፍ ያለበት የተግባር ጥሪ ነው። \n",
    "# ምሳሌ ፋክቶሪያል(0)\n",
    "# ተ፡ ተግባሪን ቢወክል\n",
    "# በዚህ ተደጋጋሚ የ 0 ሲሆን map(lambda ተ: ተ(1), ተግባር_ዝርዝር)\n",
    "# ተግባር ዝርዝር በውስጡ ካሬ ኩብ እና ፋክቶሪያል ስለያዘ አንድ በአንድ ለተ ያሳልፋል \n",
    "for የ in range(11):\n",
    "   እሴቶች = map(lambda ተ: ተ(የ), ተግባር_ዝርዝር)\n",
    "   print(list(እሴቶች))"
   ]
  },
  {
   "cell_type": "markdown",
   "metadata": {},
   "source": [
    "# ማጠቃለያ"
   ]
  },
  {
   "cell_type": "markdown",
   "metadata": {},
   "source": [
    "ማፕ ቀያሪ ወይም እንደ አድርግልኝ ማለት ይሆናል። እንደ ኢንቲጀር ቁጥር፣ ተንሳፋፊ ቁጥር፣ ሕብረቁምፊ ወይም እራሳችን እንደምናውጀው ተግባር። በዚህ ክፍል ማፕ ከ ላምዳ ጋር እንዴት በጥምረት መስራት እንደሚችል ተመልክተናል። ሌላው ጠቃሚና ማስተዋል የሚገባው በማፕ የሚሰራዊን በ ሊስት ኮምፕርሄንሽን ወይም ሊስት ኮምፕ መስራት ይቻላል።   "
   ]
  },
  {
   "cell_type": "code",
   "execution_count": null,
   "metadata": {},
   "outputs": [],
   "source": []
  }
 ],
 "metadata": {
  "kernelspec": {
   "display_name": "Python 3",
   "language": "python",
   "name": "python3"
  },
  "language_info": {
   "codemirror_mode": {
    "name": "ipython",
    "version": 3
   },
   "file_extension": ".py",
   "mimetype": "text/x-python",
   "name": "python",
   "nbconvert_exporter": "python",
   "pygments_lexer": "ipython3",
   "version": "3.6.7"
  }
 },
 "nbformat": 4,
 "nbformat_minor": 2
}
