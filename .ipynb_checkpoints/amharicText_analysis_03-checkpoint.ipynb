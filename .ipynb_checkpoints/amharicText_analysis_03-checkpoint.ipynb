{
 "cells": [
  {
   "cell_type": "markdown",
   "metadata": {},
   "source": [
    "# ድግግሞሽ እና ሁኔታዊ ፕሮግራሞች"
   ]
  },
  {
   "cell_type": "markdown",
   "metadata": {},
   "source": [
    "ድግግሞሽ እና ሁኔታዊ ፕሮግራሞች የምንላቸው ፕሮግራማችንን ሁኔታዎችን እያረጋገጠ ስራውን ለማቀላጠፍ የምንጠቀምባቸው ገለጻዎች ናቸው። በዚህ ክፍልም `if`ን፣ `for`ን እና `while` ድግሞሞሽን እንመለከታለን። \n",
    "\n",
    "**አጠቃላይ ማስገንዘቢያ**\n",
    "\n",
    "በፓይተን ባዶ ቦታ (ስፔስ) ትርጉም አላት። በተለይ ድግግሞሽን፣ ሁኔታዊ ፕሮግራሞችን እና ተግባራትን(ፈንክሽን) ስንጽፍ ፓይተን ቦዶ ቦታን የፕሮግራሙን እግድ ክፍል (ብሎክ) ለመለየት ይጠቀምበታል። እንደሌሎቹ ፕሮግራም ኩሩንባ ቅንፍን (ከርሊ ብራኬትን) በመጠቀም እግድ አይሰራም።  "
   ]
  },
  {
   "cell_type": "markdown",
   "metadata": {},
   "source": [
    "## if መግለጫ"
   ]
  },
  {
   "cell_type": "markdown",
   "metadata": {},
   "source": [
    "ቡሊያን ምን እንደሆነ ባለፈው ክፍል ተመልክተናል። አሉታዊ (False) ወይም አዎንታዊ (True) እሴቶችን ይይዛል። የif መግለጫም ይሄንን በመጠቀም የሚከናውን ይሆናል። አጠቃላይ የ`if` ቅርጽ የሚከተለውን ይመስላል። \n",
    "\n",
    "```\n",
    "if boolean_expression:\n",
    "    statements\n",
    "``` \n",
    "    \n",
    "ከ `boolean_expression` ከሚለው ቀጥሎ ያለውን `:` አስተውሉ። በመቀጠልም በአዲስ መስመር ላይ አንድ ትር (ታብ) ገባ ብሎ ያለውን `statements` አስተውሉ። ሁለቱ ለፓይተን ጠቃሚ ናቸው። የፕሮግራሙን እግድ ለማውጣት ይጠቀምበታል። ጁፒተር ኖትቡክን ወይም ላብን የምትጠቀሙ ከሆነ ፕሮግራሙን በምትጽፉበት ግዜ ይሄንን እራሱ ያስተካክልላችኋል።  \n",
    "*** \n",
    "`if` ሁልግዜ የሚመዘነው በ `True` ወይም `False` ነው። `boolean_expression`ኑ `True`  ከሆነ ቀጥለው ያሉት `statements` ይከወናሉ። በምሳሌ እንመልከት። \n",
    "*** "
   ]
  },
  {
   "cell_type": "code",
   "execution_count": 5,
   "metadata": {},
   "outputs": [
    {
     "name": "stdout",
     "output_type": "stream",
     "text": [
      "ይሄ መስመር ይከወናል\n",
      "ይሄም መስመር ይታተማል\n",
      "ይሄ መስመር ይከወናል\n",
      "፪\n"
     ]
    }
   ],
   "source": [
    "#የif መግለጫ ምሳሌ\n",
    "x = \"ተማሪ\"\n",
    "if x==\"ተማሪ\":\n",
    "    print(\"ይሄ መስመር ይከወናል\")\n",
    "    print(\"ይሄም መስመር ይታተማል\")\n",
    "    x= '፪' # የ x እሴት ወደ ፪ ተቀየረ፤ ሁለት እዚህ ጋር ቁጥር ሳይሆን ቁምፊ መሆኑን አስተውሉ \n",
    "    print(\"ይሄ መስመር ይከወናል\")\n",
    "    print(x)"
   ]
  },
  {
   "cell_type": "markdown",
   "metadata": {},
   "source": [
    "ከላይ ባለው ምሳሌ የ x እሴት ተማሪ ባይሆን `if` የሚለው መግለጫ ውሸት ስለሚሆን ምንም አይነት ውጤት አናይም። ውጤት ማየት ከፈለግን `else` ን መጠቀም እንችላለን። ማለትም `if`ፉ ውሸት ከሆነ በ `else`ኡ የተመዘገበውን ስራ ይሰራል ማለት ነው።    "
   ]
  },
  {
   "cell_type": "code",
   "execution_count": 7,
   "metadata": {},
   "outputs": [
    {
     "name": "stdout",
     "output_type": "stream",
     "text": [
      "የነቶሎ ቶሎ ቤት ግድግዳው ሰንበሌጥ።\n"
     ]
    }
   ],
   "source": [
    "#የif-else መግለጫ ምሳሌ\n",
    "x = \"ተማሪ\"\n",
    "if x!=\"ተማሪ\": #x ተማሪ ካልሆነ ማለት ነው (ውሸት ይሆናል)  \n",
    "    print(\"ይሄ መስመር ይከወናል\")\n",
    "    print(\"ይሄም መስመር ይታተማል\")\n",
    "    x= '፪' # የ x እሴት ወደ ፪ ተቀየረ፤ ሁለት እዚህ ጋር ቁጥር ሳይሆን ቁምፊ መሆኑን አስተውሉ \n",
    "    print(\"ይሄ መስመር ይከወናል\")\n",
    "    print(x)\n",
    "else:\n",
    "    print(\"የነቶሎ ቶሎ ቤት ግድግዳው ሰንበሌጥ።\")"
   ]
  },
  {
   "cell_type": "code",
   "execution_count": 8,
   "metadata": {},
   "outputs": [
    {
     "name": "stdout",
     "output_type": "stream",
     "text": [
      "x=፲\n"
     ]
    }
   ],
   "source": [
    "#የif-elif - else ተጨማሪ ምሳሌ\n",
    "x = 10\n",
    "if x<10:   \n",
    "    print(\"x<፲\")\n",
    "elif x>10:\n",
    "    print(\"x>፲\")\n",
    "    \n",
    "else:\n",
    "    print(\"x=፲\")"
   ]
  },
  {
   "cell_type": "markdown",
   "metadata": {},
   "source": [
    "## for ድግግሞሽ (ሉፕ)"
   ]
  },
  {
   "cell_type": "markdown",
   "metadata": {},
   "source": [
    "`for` ድግግሞሹን በቅደም ተከተል በየአንዳንዱ የውሂብ አባል ላይ ይከውናል። አጠቃላይ የ`for` ቅርጽ የሚከተለውን ይመስላል። \n",
    "\n",
    "```\n",
    "for variable in sequence:\n",
    "    statements\n",
    "```    "
   ]
  },
  {
   "cell_type": "code",
   "execution_count": 11,
   "metadata": {},
   "outputs": [
    {
     "name": "stdout",
     "output_type": "stream",
     "text": [
      "0 \t 0\n",
      "1 \t 1\n",
      "2 \t 4\n",
      "3 \t 9\n",
      "4 \t 16\n",
      "5 \t 25\n",
      "6 \t 36\n",
      "7 \t 49\n"
     ]
    }
   ],
   "source": [
    "#የ for ድግግሞሽ ምሳሌ \n",
    "# ይሄ ፕሮግራም ከዜሮ እስከ ሰባት የሚገኙ ቁጥሮችን እና በ ሁለት ስክዌር ሲሆኑ ያለውን ውጤት ያሳያል። \n",
    "# range ተግባርን እንጠቀማለን። ሬንጅ (ክልል) ከዜሮ ስለሚጀምር የመጨረሻው ቁጥር ባንድ ያነሰ ነው። \n",
    "# ምሳለ range(5) የሚያካልለው ከ 0 እስክ 4 ያሉትን 5 ቁጥሮች ይሆናል። \n",
    "for i in range(8):\n",
    "    print (i, \"\\t\", i**2)"
   ]
  },
  {
   "cell_type": "code",
   "execution_count": 30,
   "metadata": {},
   "outputs": [
    {
     "name": "stdout",
     "output_type": "stream",
     "text": [
      "0 \t 0\n",
      "1 \t 1\n",
      "2 \t 4\n",
      "3 \t 9\n",
      "4 \t 16\n",
      "5 \t 25\n",
      "6 \t 36\n",
      "7 \t 49\n"
     ]
    }
   ],
   "source": [
    "#የ for ድግግሞሽ ምሳሌ ሊስት (ዝርዝርን) በመጠቀም \n",
    "# for i in range(8):\n",
    "#    print (i, \"\\t\", i**2)\n",
    "# በአንድ መስመር ሊስት ኮምፕርሄንሽንን በመጠቀም እንደሚከተለው መጻፍ እንችላለን። \n",
    "N_coll =[print(i,\"\\t\", i**2) for i in range(8)]"
   ]
  },
  {
   "cell_type": "code",
   "execution_count": 36,
   "metadata": {},
   "outputs": [
    {
     "name": "stdout",
     "output_type": "stream",
     "text": [
      "float ፡ ተንሳፋፊ\n",
      "dictionary ፡ መዝገበ-ቃል\n",
      "list ፡ ዝርዝር\n",
      "set ፡ ስብስብ\n"
     ]
    }
   ],
   "source": [
    "#የ for ድግግሞሽ ተጨማሪ ምሳሌ መዝገበ-ቃል በመጠቀም  \n",
    "# ምሳሌ አንድ አጠቃላይ የመዝገበ-ቃሉን ይዞታ ለማሳየት \n",
    "d0 = {'float': 'ተንሳፋፊ', 'dictionary': 'መዝገበ-ቃል', 'list': 'ዝርዝር', 'set': 'ስብስብ'}\n",
    "for key, value in d0.items():\n",
    "    print(key,\"፡\", value)"
   ]
  },
  {
   "cell_type": "code",
   "execution_count": 44,
   "metadata": {},
   "outputs": [
    {
     "name": "stdout",
     "output_type": "stream",
     "text": [
      "dictionary መዝገበ-ቃል\n"
     ]
    }
   ],
   "source": [
    "#የ for ድግግሞሽ ተጨማሪ ምሳሌ መዝገበ-ቃል በመጠቀም  \n",
    "# ምሳሌ ሁለት መዝገበ-ቃሉ ጠቋሚውን በመጠቀም ፍለጋ ማድረግ \n",
    "d0 = {'float': 'ተንሳፋፊ', 'dictionary': 'መዝገበ-ቃል', 'list': 'ዝርዝር', 'set': 'ስብስብ'}\n",
    "for key in d0:\n",
    "    if d0[key]=='መዝገበ-ቃል':\n",
    "        print(key, d0[key])"
   ]
  },
  {
   "cell_type": "code",
   "execution_count": 48,
   "metadata": {},
   "outputs": [
    {
     "name": "stdout",
     "output_type": "stream",
     "text": [
      "dictionary መዝገበ-ቃል\n"
     ]
    }
   ],
   "source": [
    "#የ for ድግግሞሽ ተጨማሪ ምሳሌ መዝገበ-ቃል በመጠቀም  \n",
    "# ምሳሌ ሦስት መዝገበ-ቃሉ ጠቋሚውን በመጠቀም ፍለጋ ማድረግ \n",
    "d0 = {'float': 'ተንሳፋፊ', 'dictionary': 'መዝገበ-ቃል', 'list': 'ዝርዝር', 'set': 'ስብስብ'}\n",
    "for key, value in d0.items():\n",
    "    if value=='መዝገበ-ቃል':\n",
    "        print(key, value)"
   ]
  },
  {
   "cell_type": "markdown",
   "metadata": {},
   "source": [
    "## while ድግግሞሽ (ሉፕ) "
   ]
  },
  {
   "cell_type": "markdown",
   "metadata": {},
   "source": [
    "የ ድግግሞሽ አጠቃላይ ቅርጹ የሚከተለው ነው። \n",
    "\n",
    "```\n",
    "while boolean_expression:\n",
    "    statements\n",
    "```    \n",
    "`while`ን ባብዛኛው የምንጠቀመው የምንጠብቀው ሁኔታ መቼ እንደሚከሰት በማናውቅበት ጊዜ ነው።   "
   ]
  },
  {
   "cell_type": "code",
   "execution_count": null,
   "metadata": {},
   "outputs": [],
   "source": [
    "# whileን ለማስረዳት የቀረበ ምሳሌ \n",
    "# ቀላል ቁጥር የመገመት ጨዋታ። \n",
    "# ፕሮግራሙ በሚሮጥበት ግዜ ያልታወቀ ድንገተኛ ቁጥር (random number) ከ አንድ እስከ አስር ያመነጫል። \n",
    "# ተጫዋቹ ያንን ቁጥር ይገምታል። ግምቱ ትክክለኛ ከሆነ ያሸንፋል ፕሮግራሙም ያበቃል። \n",
    "# ካልሆነ መልሱን እስከሚያገኝ ፕሮግራሙ ተጫዋቹን እንዲገምት ይጋብዛል። \n",
    "\n",
    "import random\n",
    "x= random.randint(0,10)\n",
    "trial =1\n",
    "print(\"ከአንድ እስከ አስር ባሉት ቁጥሮች መካከል ገምቱ። ቁጥሩን የሚያውቀው ኮምፕውተሩ ብቻ ነው።\")\n",
    "print(\"ቁጥሩን ካወቁ ያሸንፋሉ፣ ካልሆነ እስከሚያውቁ ፲ ግዜ የመገመት እድል አሎት። መልካም እድል።\")\n",
    "y = input(\"ግምቶን ያስገቡ፡>\")\n",
    "z = int(y)\n",
    "while(z!=x and trial<10):\n",
    "    y=input(\"ግምቶን ያስተካክሉ:>\")\n",
    "    trial+=1\n",
    "    if (z!=x and trial ==10):\n",
    "        print(\"ቁጥሩን በትክክ አልገመቱም። ቁጥሩ፡> \", x, \"ነው።\")\n",
    "    else:\n",
    "        print(\"ቁጥሩን በ \", trial, \"ሙከራ አግኝተውታል።\")\n",
    "        print(\"የያዝኩትም ቁጥር፡ \", z, \"ነበር።\")"
   ]
  },
  {
   "cell_type": "markdown",
   "metadata": {},
   "source": [
    "## ድግግሞሽ እና ሁኔታዊ ፕሮግራሞች -ክለሳ "
   ]
  },
  {
   "cell_type": "markdown",
   "metadata": {},
   "source": [
    "በአብዛኛው `for` እና `if` ጥቅም ላይ ይውላሉ። ሁለገብ እና ለመጠቀምም ቀላል በመሆኖቸው። `while` በአንጻሩ እውነት እንዲሆን የምንጠብቀው ድግግሞሽ ወይም ሁኔታ መቼ እንደሚከሰት ባላወቅንበት ጊዜ ጥቅም ላይ ይውላል። ከላይ የተመለከትነው ፕሮግራሙ የሚያመነጨውን ቁጥር አናውቅም፣ በተጨማሪም መቼ ትክክለኛ ግምት ከተጠቃሚው ወደፕሮግራሙ እንደሚተላለፍ ስለማናውቅ `while`ን መጠቀም አግባብ ይሆናል። በሚቀጥለው ክፍል ተግባራትን ከልሰን ወደዋናው የአማርኛ ጽሁፎችን መተንተን እንጀምራለን። "
   ]
  },
  {
   "cell_type": "code",
   "execution_count": null,
   "metadata": {},
   "outputs": [],
   "source": []
  }
 ],
 "metadata": {
  "kernelspec": {
   "display_name": "Python 3",
   "language": "python",
   "name": "python3"
  },
  "language_info": {
   "codemirror_mode": {
    "name": "ipython",
    "version": 3
   },
   "file_extension": ".py",
   "mimetype": "text/x-python",
   "name": "python",
   "nbconvert_exporter": "python",
   "pygments_lexer": "ipython3",
   "version": "3.6.7"
  }
 },
 "nbformat": 4,
 "nbformat_minor": 2
}
