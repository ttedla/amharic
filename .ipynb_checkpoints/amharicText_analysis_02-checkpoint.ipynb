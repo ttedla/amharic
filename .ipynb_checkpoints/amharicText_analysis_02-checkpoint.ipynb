{
 "cells": [
  {
   "cell_type": "markdown",
   "metadata": {},
   "source": [
    "# መሰረታዊ ውሂብ መዋቅሮች (ዳታ ስትራክቸር)"
   ]
  },
  {
   "cell_type": "markdown",
   "metadata": {},
   "source": [
    "መዋቅሮች አላማቸው ውሂብን (ዳታን) በኮምፒውተር ላይ እያደራጁ ለማከመቻት ይረዳሉ። የፓይተን ፕሮግራም የኮምፒውተር ቋንቋ እንደመሆኑ የውሂብ መዋቅሮቹ በሁለት ዋና ክፍል ይከፈላሉ። የመጀመርያዎቹ መዋቅሮች አፍ መፍቻው የሆኑ (ፕሪምቲቭ) ሲሆኑ፣ በክፍል አንድ የተውሰኑትን ተመልክተናል። ተጭማሪዎቹንም በዚህ ክፍል እንመለከታለን። ሁለተኞቹ መዋቅሮች ስብስቦችን ማከማቸት የሚችሉ ናቸው።   "
   ]
  },
  {
   "cell_type": "markdown",
   "metadata": {},
   "source": [
    "## አፍ መፍቻ መዋቅሮች"
   ]
  },
  {
   "cell_type": "markdown",
   "metadata": {},
   "source": [
    "ኢንቲጀር፣ ተንሳፋፊ(ፍሎት)፣ ሕብረቁምፊ(ስትሪንግ) እና ቡሊያን መዋቅሮችን እንመለከታለን። "
   ]
  },
  {
   "cell_type": "markdown",
   "metadata": {},
   "source": [
    "### ኢንቲጀር"
   ]
  },
  {
   "cell_type": "markdown",
   "metadata": {},
   "source": [
    "ቁጥሮችን ለመወከል እንጠቀምበታለን። ምሳሌ  x=2፣ x=3 ፣ x=10001፣ x=12345፣ x=0 ፣ x=-1 ወይም x=-1234። ማለትም አወንታዊ (ፓዘቲቭ) ወይም አሉታዊ (ኔጋቲቭ) ቁጥሮችን መወከል እንችላለን። ነገር ግን ክፍልፋይ ቁጥሮችን ለመወከል አንችልም። "
   ]
  },
  {
   "cell_type": "code",
   "execution_count": 5,
   "metadata": {},
   "outputs": [
    {
     "name": "stdout",
     "output_type": "stream",
     "text": [
      "2\n"
     ]
    }
   ],
   "source": [
    "#ኢንቲጀር ምሳሌ\n",
    "x=2\n",
    "print(x)"
   ]
  },
  {
   "cell_type": "code",
   "execution_count": 7,
   "metadata": {},
   "outputs": [
    {
     "data": {
      "text/plain": [
       "int"
      ]
     },
     "execution_count": 7,
     "metadata": {},
     "output_type": "execute_result"
    }
   ],
   "source": [
    "# ኤክስን አይነቱን (ታይፑን) ለማወቅ type() ተግባርን መጠቀም እንችላለን። \n",
    "# ስለተግባር (ፈንክሽን) በክፍል 4 እንመለከታለን\n",
    "type(x)"
   ]
  },
  {
   "cell_type": "markdown",
   "metadata": {},
   "source": [
    "### ተንሳፋፊ (ፍሎት)"
   ]
  },
  {
   "cell_type": "markdown",
   "metadata": {},
   "source": [
    "ክፍልፋይ ወይም ራሽናል የምንላቸውን ቁጥሮች ለመወከል እንጠቀምበታለን። ምሳሌ x=1.11፣ x=2.22 ወይም x=3.141215"
   ]
  },
  {
   "cell_type": "code",
   "execution_count": 9,
   "metadata": {},
   "outputs": [
    {
     "name": "stdout",
     "output_type": "stream",
     "text": [
      "4.2620000000000005\n"
     ]
    }
   ],
   "source": [
    "#ተንሳፋፊ መደመር ምሳሌ\n",
    "x=1.12\n",
    "y=3.142\n",
    "z=x+y\n",
    "print(z)"
   ]
  },
  {
   "cell_type": "code",
   "execution_count": 10,
   "metadata": {},
   "outputs": [
    {
     "data": {
      "text/plain": [
       "float"
      ]
     },
     "execution_count": 10,
     "metadata": {},
     "output_type": "execute_result"
    }
   ],
   "source": [
    "# የ z አይነቱን ለማወቅ \n",
    "type(z)"
   ]
  },
  {
   "cell_type": "markdown",
   "metadata": {},
   "source": [
    "**የሌላ ኮምፒውተር ቋንቋ ለምታውቁ ግር እንዳይላችሁ** \n",
    "***\n",
    "\n",
    "ፓይተን ከሚሰጠው ዋጋ ተነስቶ የውሂብ አይነቱን በራሱ ይወስናል። ይህም ማለት ለምሳሌ ሲ ቋንቋን ብንወስድ የውሂቡን አይነት ቀድመን መወስን አለብን። በዚህም የወሰነውን አይነት ከሚሰጠው ተቀብሎ ያስቀምጣል። ምሳሌ፡ በሲ ተለዋዋጭን int x; ብለን ካወጅን በኋላ x=2.35; ብንል በ x ውስጥ የሚቀመጠው 2 ብቻ ይሆናል። ሌላውን ይተወዋል። ፓይተን ተለዋዋጭን ማወጅ አይፈልግም። x=2 ላልን ኢንቲጀር እንደሆነ ያውቃል፤ x=2.124  ስንል ተንሳፋፊ እንደሆነ ያውቃል። \n",
    "***"
   ]
  },
  {
   "cell_type": "markdown",
   "metadata": {},
   "source": [
    "### ሕብረቁምፊ (ስትሪንግ)"
   ]
  },
  {
   "cell_type": "markdown",
   "metadata": {},
   "source": [
    "ሕብረቁምፊ የቁምፊዎች ስብስብ ነው። ቁምፊ ማለት ቁጥር፣ ምልክት እና ፊደልን የመጀመሪያ ፊደሎችን በመውሰድ የተፈጠር ምሕጻረ-ቃል ነው። ሕብረቁምፊ በትምርተጥቅስ (ነጠላ ወይም ድርብ) ይከበባሉ።  \n",
    "* ቁጥር፡ ምሳሌ፦ '1'፣ '2'፣ '3'፣ '4'፣ \n",
    "* ምልክት፡ ምሳሌ፦  '፡' '፣' '?' '!' \n",
    "* ፊደል፡ ምሳሌ፦   'አ' 'ገ' 'ቱ' "
   ]
  },
  {
   "cell_type": "code",
   "execution_count": 12,
   "metadata": {},
   "outputs": [
    {
     "name": "stdout",
     "output_type": "stream",
     "text": [
      "ሰላም ለሁላችን ይሁን።\n"
     ]
    }
   ],
   "source": [
    "# ሕብረቁምፊ ምሳሌ \n",
    "selamta = \"ሰላም ለሁላችን ይሁን።\"\n",
    "print(selamta)"
   ]
  },
  {
   "cell_type": "code",
   "execution_count": 15,
   "metadata": {},
   "outputs": [
    {
     "name": "stdout",
     "output_type": "stream",
     "text": [
      "ሰላም ለሁላችን ይሁን። እንደምን ከረማችሁ?\n"
     ]
    }
   ],
   "source": [
    "#ሕብረቁምፊ ምሳሌ 2\n",
    "selamta1= \"እንደምን ከረማችሁ?\"\n",
    "selamta2 = \"፩ንድ የሕብረቁምፊ ምሳሌ ነው።\"\n",
    "print(selamta+\" \"+ selamta1)"
   ]
  },
  {
   "cell_type": "code",
   "execution_count": 17,
   "metadata": {},
   "outputs": [
    {
     "name": "stdout",
     "output_type": "stream",
     "text": [
      "፩ንድ የሕብረቁምፊ ምሳሌ ነው። ሰላም ለሁላችን ይሁን። እንደምን ከረማችሁ?\n"
     ]
    }
   ],
   "source": [
    "#ሕብረቁምፊ ምሳሌ 3\n",
    "selamta_02 = selamta+\" \"+selamta1\n",
    "print(selamta2+\" \"+selamta_02)"
   ]
  },
  {
   "cell_type": "markdown",
   "metadata": {},
   "source": [
    "ሕብረቁምፊ የቁምፊ ስብስብ ስለሆነ በተለያየ መንገድ መጠቀም እንችላለን። ጥቂቱን ለመመልከት፡ \n",
    "* መደመር (ከላይ እንደተመለከትነው ሕብረቁምፊዎችን መደመር እንችላለን)። ይህም ከላይ እንደተመለከትነው ተደማሪዎቹን በመቀጣጠል አንድ ያደርጋቸዋል \n",
    "* መቆራረጥ (የተወሰነውን የሕብረቁምፊ ክፍል ነጥሎ ለማውጣት ይረዳል) \n",
    "* የሕብረቁምፊውን ርዝመት ወይም ስንት ቁምፊ እንደያዘ ማወቅ \n",
    "* ባሕሪያቱን (ቁጥር፣ ምልክት ወይም ፊደል) መያዙን መለየት \n",
    "* መፈለግ \n",
    "\n",
    "በምሳሌ እንመልከት "
   ]
  },
  {
   "cell_type": "code",
   "execution_count": 18,
   "metadata": {},
   "outputs": [
    {
     "data": {
      "text/plain": [
       "'ሰላም ለሁላችን ሰላም ላገራችን'"
      ]
     },
     "execution_count": 18,
     "metadata": {},
     "output_type": "execute_result"
    }
   ],
   "source": [
    "# ሕብረቁምፊን መደመር \n",
    "# sep = ሕብረቁምፊዎቹን ለመለየት የምንጠቀምበት ክፍት ቦታ ነው \n",
    "str_01 = \"ሰላም ለሁላችን\"\n",
    "str_02 = \"ሰላም ላገራችን\"\n",
    "sep = \" \"\n",
    "str_01 + sep + str_02"
   ]
  },
  {
   "cell_type": "code",
   "execution_count": 20,
   "metadata": {},
   "outputs": [
    {
     "data": {
      "text/plain": [
       "9"
      ]
     },
     "execution_count": 20,
     "metadata": {},
     "output_type": "execute_result"
    }
   ],
   "source": [
    "# ሕብረቁምፊን መቆራረጥ  \n",
    "# ሕብረቁምፊን ለመቆራረጥ [] ስብር ቅንፍን እንጠቀማለን። \n",
    "#በ ስብር ቅንፍ ውስጥ የምንፈልገውን ቁምፊ ጠቋሚ (ኢንዴክስ) በማስገባት ቁምፊዎች ላይ መድረስ ይቻላል። \n",
    "# ጠቋሚዎች ከ 0 እስክ ቁምፊ ብዛት ሲቀነስ አንድ ድረስ ይረዝማሉ። ስለዚህ ቀጥለን እንመለከታለን \n",
    "# ባዶ ቦታዎችን ጨምሮ ቁምፊው ርዝማኔው ፱ (9) ነው። ጠቋሚው ከ 0 እስከ 8 (፰) ያካትታል። \n",
    "str_01 = \"ሰላም ለሁላችን\" \n",
    "len(str_01)"
   ]
  },
  {
   "cell_type": "code",
   "execution_count": 24,
   "metadata": {},
   "outputs": [
    {
     "data": {
      "text/plain": [
       "'ሰላም ለሁላች'"
      ]
     },
     "execution_count": 24,
     "metadata": {},
     "output_type": "execute_result"
    }
   ],
   "source": [
    "# ሕብረቁምፊን መቆራረጥ  \n",
    "# ሕብረቁምፊን ለመቆራረጥ [] ስብር ቅንፍን እንጠቀማለን። \n",
    "#በ ስብር ቅንፍ ውስጥ የምንፈልገውን ቁምፊ ጠቋሚ (ኢንዴክስ) በማስገባት ቁምፊዎች ላይ መድረስ ይቻላል። \n",
    "# ጠቋሚዎች ከ 0 እስክ ቁምፊ ብዛት ሲቀነስ አንድ ድረስ ይረዝማሉ። ስለዚህ ቀጥለን እንመለከታለን \n",
    "# ባዶ ቦታዎችን ጨምሮ ቁምፊው ርዝማኔው ፱ (9) ነው። \n",
    "str_01 = \"ሰላም ለሁላችን\" \n",
    "str_01[0:8]"
   ]
  },
  {
   "cell_type": "code",
   "execution_count": 25,
   "metadata": {},
   "outputs": [
    {
     "data": {
      "text/plain": [
       "'ሰ'"
      ]
     },
     "execution_count": 25,
     "metadata": {},
     "output_type": "execute_result"
    }
   ],
   "source": [
    "# ሕብረቁምፊን መቆራረጥ  \n",
    "# ሕብረቁምፊን ለመቆራረጥ [] ስብር ቅንፍን እንጠቀማለን። \n",
    "#በ ስብር ቅንፍ ውስጥ የምንፈልገውን ቁምፊ ጠቋሚ (ኢንዴክስ) በማስገባት ቁምፊዎች ላይ መድረስ ይቻላል። \n",
    "# የመጀመሪያው ፊደል ጠቋሚው ዜሮ (0) ሲሆን ሁለተኛው ደግሞ 1 (፩) እያለ እስከ 8(፰) ይቀጥላል። \n",
    "str_01[0]"
   ]
  },
  {
   "cell_type": "code",
   "execution_count": 29,
   "metadata": {},
   "outputs": [
    {
     "data": {
      "text/plain": [
       "'ላም ለሁ'"
      ]
     },
     "execution_count": 29,
     "metadata": {},
     "output_type": "execute_result"
    }
   ],
   "source": [
    "# ሕብረቁምፊን መቆራረጥ  \n",
    "# ሕብረቁምፊን ለመቆራረጥ [] ስብር ቅንፍን እንጠቀማለን። \n",
    "#በ ስብር ቅንፍ ውስጥ የምንፈልገውን ቁምፊ ጠቋሚ (ኢንዴክስ) በማስገባት ቁምፊዎች ላይ መድረስ ይቻላል። \n",
    "# የመጀመሪያው ፊደል ጠቋሚው ዜሮ (0) ሲሆን ሁለተኛው ደግሞ 1 (፩) እያለ እስከ 8(፰) ይቀጥላል። \n",
    "str_01[1:6]"
   ]
  },
  {
   "cell_type": "markdown",
   "metadata": {},
   "source": [
    "ጠቋሚዎች አሉታዊ (ኔጌቲቭ) ቁጥር መሆን ይችላሉ። ለምሳሌ የሚከተሉት መቆራረጫዎች ምን እንደሚያወጡ ገምቱ እና ውጤቱን ገለጻውን በማሮጥ ተመልከቱ። "
   ]
  },
  {
   "cell_type": "code",
   "execution_count": null,
   "metadata": {},
   "outputs": [],
   "source": [
    "# ሕብረቁምፊን መቆራረጥ  \n",
    "# ሕብረቁምፊን ለመቆራረጥ [] ስብር ቅንፍን እንጠቀማለን። \n",
    "#በ ስብር ቅንፍ ውስጥ የምንፈልገውን ቁምፊ ጠቋሚ (ኢንዴክስ) በማስገባት ቁምፊዎች ላይ መድረስ ይቻላል። \n",
    "# የመጀመሪያው ፊደል ጠቋሚው ዜሮ (0) ሲሆን ሁለተኛው ደግሞ 1 (፩) እያለ እስከ 8(፰) ይቀጥላል። \n",
    "str_01[-1]"
   ]
  },
  {
   "cell_type": "code",
   "execution_count": null,
   "metadata": {},
   "outputs": [],
   "source": [
    "# ሕብረቁምፊን መቆራረጥ  \n",
    "# ሕብረቁምፊን ለመቆራረጥ [] ስብር ቅንፍን እንጠቀማለን። \n",
    "#በ ስብር ቅንፍ ውስጥ የምንፈልገውን ቁምፊ ጠቋሚ (ኢንዴክስ) በማስገባት ቁምፊዎች ላይ መድረስ ይቻላል። \n",
    "# የመጀመሪያው ፊደል ጠቋሚው ዜሮ (0) ሲሆን ሁለተኛው ደግሞ 1 (፩) እያለ እስከ 8(፰) ይቀጥላል። \n",
    "str_01[::-1]"
   ]
  },
  {
   "cell_type": "markdown",
   "metadata": {},
   "source": [
    "### ቡሊያን"
   ]
  },
  {
   "cell_type": "markdown",
   "metadata": {},
   "source": [
    "ቡሊያንን በብዛት የምንጠቀመው ለሁኔታዊ (ኮንዲሽናል) ወይም ለማነጻጸሪያው (ኮምፓሪዝን) ለሆኑ መግለጫዎች (ኤክስፕረሽኖች) ነው። `True` ወይም `False` ዋጋዎችን መያዝ ይችላል።  \n"
   ]
  },
  {
   "cell_type": "code",
   "execution_count": 30,
   "metadata": {},
   "outputs": [
    {
     "data": {
      "text/plain": [
       "False"
      ]
     },
     "execution_count": 30,
     "metadata": {},
     "output_type": "execute_result"
    }
   ],
   "source": [
    "#ቡሊያን ምሳሌ \n",
    "x=4\n",
    "y=2\n",
    "x==y # ኤክስ እና ዋይ እኩል ናቸው ወይ ብሎ እንደመጠየቅ ነው። መልሱም አይደሉም (False) ይሆናል"
   ]
  },
  {
   "cell_type": "code",
   "execution_count": 31,
   "metadata": {},
   "outputs": [
    {
     "data": {
      "text/plain": [
       "True"
      ]
     },
     "execution_count": 31,
     "metadata": {},
     "output_type": "execute_result"
    }
   ],
   "source": [
    "#ቡሊያን ምሳሌ \n",
    "x=4\n",
    "y=2\n",
    "x>y # ኤክስ ከ ዋይ ይበልጣል ብሎ እንደመጠየቅ ነው። መልሱም አዎ 4 ከ 3 ይበልጣል ነው። (True) ይሆናል"
   ]
  },
  {
   "cell_type": "markdown",
   "metadata": {},
   "source": [
    "### ክለሳ - አፍ መፍቻ መዋቅሮች"
   ]
  },
  {
   "cell_type": "markdown",
   "metadata": {},
   "source": [
    "አፍ መፍቻ የምንላቸው መዋቅሮች ኢንት፣ ፍሎት፣ ሕብረቁምፊ እና ቡሊያንን ተመልክተናል። እነዚህም የሚይዙት ተመሳሳይ የሆኑ አይነቶችን ነው። ለምሳሌ ኢንቲጀር አይነት ክፍልፋይ የሌላቸው የቁጥር አይነቶችን ብቻ መያዝ የሚችል ነው። ቁጥሮችን እና ሕብረቁምፊዎችን አጣምረን ማዋቀር ብንፈልግ ስብስቦችን ማዋቀር የሚችሉትን መዋቅሮች መጠቀም ይኖርብናል።  "
   ]
  },
  {
   "cell_type": "markdown",
   "metadata": {},
   "source": [
    "## የስብስብ መዋቅሮች"
   ]
  },
  {
   "cell_type": "markdown",
   "metadata": {},
   "source": [
    "የስብስብ መዋቅሮች የተለያዩ አይነቶችን በአንድነት ማዋቀር ይችላሉ። ዝርዝር (ሊስት)፣ መዝገበ-ቃል (ዲክሽነሪ) እና ልዩ-ስብስብ (ሴትን) እንመለከታለን። "
   ]
  },
  {
   "cell_type": "markdown",
   "metadata": {},
   "source": [
    "### ዝርዝር (ሊስት)"
   ]
  },
  {
   "cell_type": "markdown",
   "metadata": {},
   "source": [
    "ተመሳሳይነት የሌላቸውን ነገሮችን አንድ ላይ መያዝ ይችላሉ። ዝርዝር መለወጥ የሚችል ነው (ሚዩተብል)። ዝርዝር በስብር ቅንፍ `[]` ይወከላል።  "
   ]
  },
  {
   "cell_type": "code",
   "execution_count": 33,
   "metadata": {},
   "outputs": [],
   "source": [
    "# የዝርዝር (ሊስት) ምሳሌ\n",
    "# ዝርዝሩ ቁጥሮችን፣ ቁምፊዎችን እና ሕብረቁምፊዎቹን አንድ ላይ የያዘ ነው። \n",
    "x=[1,2,3,'ሀ','ለ', 'ምሳሌ', 'example']"
   ]
  },
  {
   "cell_type": "code",
   "execution_count": 34,
   "metadata": {},
   "outputs": [
    {
     "data": {
      "text/plain": [
       "list"
      ]
     },
     "execution_count": 34,
     "metadata": {},
     "output_type": "execute_result"
    }
   ],
   "source": [
    "# አይነቱን (ታይፑን) ለመመልከት type(x) በማሮጥ መመልከት ይቻላል። \n",
    "# አይነቱን list ነው። \n",
    "type(x)"
   ]
  },
  {
   "cell_type": "markdown",
   "metadata": {},
   "source": [
    "ዝርዝር ጠቋሚ አለው። ጠቋሚውም ከ ዜሮ ጀምሮ እስከ ዝርዝሩ ብዛት ሲቀነስ አንድ ድረስ ይሄዳል። የዝርዝሩን ብዛት ለማወቅ len(x)ን በመጠቀም መመልከት እንችላለን።  "
   ]
  },
  {
   "cell_type": "code",
   "execution_count": 35,
   "metadata": {},
   "outputs": [
    {
     "data": {
      "text/plain": [
       "7"
      ]
     },
     "execution_count": 35,
     "metadata": {},
     "output_type": "execute_result"
    }
   ],
   "source": [
    "# የዝርዝሩን ርዝመት ለማወቅ\n",
    "# len(x) = ሰባት ነው። ይሄንንም በመቁጠር ማወቅ እንችላለን። \n",
    "len(x)"
   ]
  },
  {
   "cell_type": "markdown",
   "metadata": {},
   "source": [
    "ጠቋሚዎቹን በመጠቀም የዝርዝሩን አባላት ማወቅ ይቻላል። ማለትም x\\[0\\]=1 x\\[1\\]=1፣ x\\[2\\]= 3፣ x\\[3\\]= ሀ፣ x\\[4\\]=ለ፣ x\\[5\\]=ምሳሌ x\\[6\\]= example ይሆናሉ። በሌላ መንገድም አባላቱን ማግኘት ይቻላል። በ ፕሮግራም በመጻፍ እንመልከት።  "
   ]
  },
  {
   "cell_type": "code",
   "execution_count": 38,
   "metadata": {},
   "outputs": [
    {
     "data": {
      "text/plain": [
       "1"
      ]
     },
     "execution_count": 38,
     "metadata": {},
     "output_type": "execute_result"
    }
   ],
   "source": [
    "# ሊስት አባላትን ማግኘት \n",
    "# የመጀመሪያው ሊስት አባል x[0] በመጠቀም ማግኘት ይቻላል። \n",
    "x[0]"
   ]
  },
  {
   "cell_type": "code",
   "execution_count": 39,
   "metadata": {},
   "outputs": [
    {
     "data": {
      "text/plain": [
       "2"
      ]
     },
     "execution_count": 39,
     "metadata": {},
     "output_type": "execute_result"
    }
   ],
   "source": [
    "# ሊስት አባላትን ማግኘት \n",
    "# ሁለተኛውን የሊስት አባል x[1] በመጠቀም ማግኘት ይቻላል።\n",
    "x[1]"
   ]
  },
  {
   "cell_type": "code",
   "execution_count": 40,
   "metadata": {},
   "outputs": [
    {
     "data": {
      "text/plain": [
       "[1, 2]"
      ]
     },
     "execution_count": 40,
     "metadata": {},
     "output_type": "execute_result"
    }
   ],
   "source": [
    "# ሊስት አባላትን በጋራም ማግኘት ይቻላል \n",
    "# የመጀመሪያና ሁለተኛውን የሊስት አባላት ለማግኘት x[0:2] በመጠቀም ማግኘት ይቻላል።\n",
    "# ይህም x[0] እና x[1] ያትምልናል። ልብ በሉ x[2]ን አያትምም። \n",
    "x[0:2]"
   ]
  },
  {
   "cell_type": "code",
   "execution_count": 41,
   "metadata": {},
   "outputs": [
    {
     "data": {
      "text/plain": [
       "int"
      ]
     },
     "execution_count": 41,
     "metadata": {},
     "output_type": "execute_result"
    }
   ],
   "source": [
    "# ለምሳሌ type(x[0]) ብለን የአባሉን አይነት ማግኘት እንችላለን። \n",
    "# ስብስቡ ዝርዝር ቢሆንም፣ በተናጠል አባላቱ የተለየ አይነት ሊሆኑ ይችላሉ። \n",
    "type(x[0])"
   ]
  },
  {
   "cell_type": "code",
   "execution_count": 42,
   "metadata": {},
   "outputs": [
    {
     "data": {
      "text/plain": [
       "str"
      ]
     },
     "execution_count": 42,
     "metadata": {},
     "output_type": "execute_result"
    }
   ],
   "source": [
    "# ለምሳሌ type(x[0]) ብለን የአባሉን አይነት ማግኘት እንችላለን። \n",
    "# ስብስቡ ዝርዝር ቢሆንም፣ በተናጠል አባላቱ የተለየ አይነት ሊሆኑ ይችላሉ። \n",
    "# x[5] 'ምሳሌ' የሚለው ቃል ሲሆን አይነቱም ሕብረቁምፊ (str) ነው። \n",
    "type(x[5])"
   ]
  },
  {
   "cell_type": "code",
   "execution_count": 44,
   "metadata": {},
   "outputs": [
    {
     "data": {
      "text/plain": [
       "'example'"
      ]
     },
     "execution_count": 44,
     "metadata": {},
     "output_type": "execute_result"
    }
   ],
   "source": [
    "# የዝርዝሩን የመጨረሻ አባል ለማግኘት ለምሳሌ x[len(x)-1] መጠቀም እንችላለን። \n",
    "# x[-1] ወይም x[6] ተመሳሳይ የመጨረሻውን አባል ይመልሱልናል። \n",
    "x[-1]"
   ]
  },
  {
   "cell_type": "code",
   "execution_count": 46,
   "metadata": {},
   "outputs": [
    {
     "data": {
      "text/plain": [
       "[1, 2, 3, 'ሀ', 'ለ', 'ምሳሌ', 'የተለወጠ']"
      ]
     },
     "execution_count": 46,
     "metadata": {},
     "output_type": "execute_result"
    }
   ],
   "source": [
    "# ዝርዝር መለዋወጥ የሚችል መሆኑን ለማሳየት የገባ ምሳሌ \n",
    "x[-1] = \"የተለወጠ\" # የመጨረሻውን አባል ከ example ወደ የተለወጠ ቀየርን። \n",
    "x"
   ]
  },
  {
   "cell_type": "markdown",
   "metadata": {},
   "source": [
    "### መዝገበ-ቃል (ዲክሽነሪ) "
   ]
  },
  {
   "cell_type": "markdown",
   "metadata": {},
   "source": [
    "የፓይተን መዝገበ-ቃል በመለያ (ኪ) እና በእሴት (ቫልዩ) የሚዋቀር ስብስብ ነው። መለያው (ኪው) የመዝገበ-ቃሉን አባላት ለመለየት ያገለግላል። እሴቱ የአባሉን ዋጋ ይይዛል። የመዝገበ-ቃል በ `{}` (ኩሩንባ ቅንፍ) ሲበየን በመለያው እና በእሴቱ መካከል ሁለት ነጥብ ይኖራል። አባላቱም በ ኮማ ይለያያሉ ማለት ነው። ምሳሌ ዲክሺነሪ፡ \n",
    "`data_structure = {'float':'ተንሳፋፊ', 'dictionary':'መዝገበ-ቃል', 'list':'ዝርዝር'}`። \n",
    "ዲክሽነሪው 3 መለያ ቁልፎች እና ከመለያዎቹ ጋር የተጣመሩ አባላት አሏቸው። አባሉን ለማግኘት `data_structure['float']` ብንጽፍ ተንሳፋፊን እናገኛለን። "
   ]
  },
  {
   "cell_type": "code",
   "execution_count": 51,
   "metadata": {},
   "outputs": [],
   "source": [
    "# መዝገበ-ቃል በመለያ እና በእሴት የተዋቀረ ነው። \n",
    "#የሚከተለው ምሳሌ data_structure የሚል ዲክሽነሪ ይፈጥራል። \n",
    "data_structure = {'float':'ተንሳፋፊ', 'dictionary':'መዝገበ-ቃል', 'list':'ዝርዝር'}"
   ]
  },
  {
   "cell_type": "code",
   "execution_count": 52,
   "metadata": {},
   "outputs": [
    {
     "data": {
      "text/plain": [
       "'ተንሳፋፊ'"
      ]
     },
     "execution_count": 52,
     "metadata": {},
     "output_type": "execute_result"
    }
   ],
   "source": [
    "#አባላቱን ለመድረስ data_structure[''] በቅንፉ ውስጥ የምንፈልገውን አባል መለያ በማስገባት።\n",
    "# ለምሳሌ የ float ን እሴት ለማገኘት የሚከተለውን ገላጭ መጻፍ ይቻላል። \n",
    "data_structure['float'] "
   ]
  },
  {
   "cell_type": "markdown",
   "metadata": {},
   "source": [
    "አዲስ አባል ለማስገባት ከተፈለገም `data_structure['set'] = 'ስብስብ'` ብለን ማስገባት እንችላለን። ማለትም `set` ን እንደ መለያ በመጠቀም ስብስብ የሚለውን እሴት እንደ አዲስ ያስገባል። \n",
    "***\n",
    "**set የሚለው መለያ መዝገበ-ቃሉ ውስጥ ካለ እሴቱን በአዲሱ እሴት ይቀይረዋል**።\n",
    "*** "
   ]
  },
  {
   "cell_type": "code",
   "execution_count": 61,
   "metadata": {},
   "outputs": [
    {
     "data": {
      "text/plain": [
       "{'float': 'ተንሳፋፊ', 'dictionary': 'መዝገበ-ቃል', 'list': 'ዝርዝር', 'set': 'ስብስብ'}"
      ]
     },
     "execution_count": 61,
     "metadata": {},
     "output_type": "execute_result"
    }
   ],
   "source": [
    "# አዲስ መለያ እና እሴት ማስገባት \n",
    "data_structure['set'] = 'ስብስብ' \n",
    "data_structure"
   ]
  },
  {
   "cell_type": "markdown",
   "metadata": {},
   "source": [
    "ድግግሞሽ (loop) እና ሁኔታዊ (condition) በመጠቀም እንዴት እስካሁን ያየናቸውን ነገሮች ማቀላጠፍ እንደምንችል በድግግሞሽ እና የሁኔታ ፕሮግራም በመጻፍ ክፍል እንመለከታለን።  "
   ]
  },
  {
   "cell_type": "code",
   "execution_count": 54,
   "metadata": {},
   "outputs": [
    {
     "data": {
      "text/plain": [
       "dict_keys(['float', 'dictionary', 'list', 'set'])"
      ]
     },
     "execution_count": 54,
     "metadata": {},
     "output_type": "execute_result"
    }
   ],
   "source": [
    "# በዲክሽነሪ ውስጥ የሚገኙ መለያዎችን ለማወቅ data_structure.keys() መጠቀም እንችላለን። \n",
    "data_structure.keys()"
   ]
  },
  {
   "cell_type": "code",
   "execution_count": 55,
   "metadata": {},
   "outputs": [
    {
     "data": {
      "text/plain": [
       "dict_values(['ተንሳፋፊ', 'መዝገበ-ቃል', 'ዝርዝር', 'ስብስብ'])"
      ]
     },
     "execution_count": 55,
     "metadata": {},
     "output_type": "execute_result"
    }
   ],
   "source": [
    "# በዲክሽነሪ ውስጥ የሚገኙ እሴቶችን (ቫልዩዎችን) ለማወቅ data_structure.values() መጠቀም እንችላለን። \n",
    "data_structure.values()"
   ]
  },
  {
   "cell_type": "markdown",
   "metadata": {},
   "source": [
    "### ለዩ-ስብስብ (ሴት)"
   ]
  },
  {
   "cell_type": "markdown",
   "metadata": {},
   "source": [
    "ለዩ-ስብስብ ልዩ የሆኑ ነገሮች ስብስብ ነው። *set* የሚለውን ቃል በመጠቀም ማወጅ ይቻላል። ለምሳሌ ተበተበ የሚለውን ቃል ወደሴት ብንቀይረው ልዩ የሆኑት ተ እና በ ብቻ ይሆናሉ።   "
   ]
  },
  {
   "cell_type": "code",
   "execution_count": 56,
   "metadata": {},
   "outputs": [
    {
     "data": {
      "text/plain": [
       "{'በ', 'ተ'}"
      ]
     },
     "execution_count": 56,
     "metadata": {},
     "output_type": "execute_result"
    }
   ],
   "source": [
    "# የስብስብ ምሳሌ \n",
    "set('ተበተበ')"
   ]
  },
  {
   "cell_type": "code",
   "execution_count": 57,
   "metadata": {},
   "outputs": [],
   "source": [
    "# የ set ተግባራትን መጠቀም \n",
    "x = set('አለምገና')\n",
    "y= set('ገና')"
   ]
  },
  {
   "cell_type": "code",
   "execution_count": 58,
   "metadata": {},
   "outputs": [
    {
     "data": {
      "text/plain": [
       "{'ለ', 'ም', 'አ'}"
      ]
     },
     "execution_count": 58,
     "metadata": {},
     "output_type": "execute_result"
    }
   ],
   "source": [
    "# የ set ተግባራትን መጠቀም \n",
    "# x-y (በ x የሚገኙ በ y የማይገኙ ማለት ነው)፣ አ ለ እና ም ይሆናሉ። \n",
    "x = set('አለምገና')\n",
    "y= set('ገና')\n",
    "x-y"
   ]
  },
  {
   "cell_type": "code",
   "execution_count": 59,
   "metadata": {},
   "outputs": [
    {
     "data": {
      "text/plain": [
       "{'ለ', 'ም', 'ና', 'አ', 'ገ'}"
      ]
     },
     "execution_count": 59,
     "metadata": {},
     "output_type": "execute_result"
    }
   ],
   "source": [
    "# የ set ተግባራትን መጠቀም \n",
    "# x|y (በ x ወይም በ y የሚገኙ አባላት ማለት ነው)፣ አ ለ ም ገ እና ና ይሆናሉ። \n",
    "x = set('አለምገና')\n",
    "y= set('ገና')\n",
    "x|y"
   ]
  },
  {
   "cell_type": "code",
   "execution_count": 60,
   "metadata": {},
   "outputs": [
    {
     "data": {
      "text/plain": [
       "{'ና', 'ገ'}"
      ]
     },
     "execution_count": 60,
     "metadata": {},
     "output_type": "execute_result"
    }
   ],
   "source": [
    "# የ set ተግባራትን መጠቀም \n",
    "# x&y (በ x እና በ y (በሁለቱም ስብስቦች ውስጥ) የሚገኙ አባላት ማለት ነው)፣ ገ እና ና ይሆናሉ። \n",
    "x = set('አለምገና')\n",
    "y= set('ገና')\n",
    "x&y"
   ]
  },
  {
   "cell_type": "markdown",
   "metadata": {},
   "source": [
    "### ክለሳ - ስብስብ መዋቅሮች"
   ]
  },
  {
   "cell_type": "markdown",
   "metadata": {},
   "source": [
    "ከስብስብ መዋቅሮች ዝርዝር(ሊስት)፣ መዝገበ-ቃል(ዲክሽነሪ) እና ልዩ-ስብስብ(ሴትን) ተመልክተናል። እነዚህ የስብስብ መዋቅሮች የተለያዩ አይነቶችን በአንድነት መያዝ የሚችሉ ሲሆኑ የአማርኛ ጽሁፎችን ለመተንተን እንጠቀምባቸዋለን። በሚቀጥለው ክፍል ድግግሞሽ(ሉፕ) እና ሁኔታን(ኮንዲሽንን) እንዴት እንደምንጠቀም እንከልስ እና ወደዋና ነገራችን ጽሁፎችን ወይም መረጃዎችን ፕሮግራምን በመጠቀም መተንተንን እንመለከታለን።  "
   ]
  },
  {
   "cell_type": "code",
   "execution_count": null,
   "metadata": {},
   "outputs": [],
   "source": []
  }
 ],
 "metadata": {
  "kernelspec": {
   "display_name": "Python 3",
   "language": "python",
   "name": "python3"
  },
  "language_info": {
   "codemirror_mode": {
    "name": "ipython",
    "version": 3
   },
   "file_extension": ".py",
   "mimetype": "text/x-python",
   "name": "python",
   "nbconvert_exporter": "python",
   "pygments_lexer": "ipython3",
   "version": "3.6.7"
  }
 },
 "nbformat": 4,
 "nbformat_minor": 2
}
