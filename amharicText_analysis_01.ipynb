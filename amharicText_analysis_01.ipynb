{
 "cells": [
  {
   "cell_type": "markdown",
   "metadata": {
    "toc-hr-collapsed": false
   },
   "source": [
    "# መግቢያ"
   ]
  },
  {
   "cell_type": "markdown",
   "metadata": {},
   "source": [
    "በዚህ ጽሁፍ የአማርኛ ሰነድ ወይም ጽሁፍን የሶፍትዌር ፕሮግራምን አጋዥ በማድረግ እንዴት መተንተን እንደሚቻል እንመለከታለን። ፕሮግራም ለመጻፍ የምንጠቀመው _ፓይተን_ የተባለውን የኮሞፒውተር ቋንቋ ነው። አንባቢዎች መሰረታዊ የሆነ የ ፓይተን ዕውቀት ይኖራችኋል ተብሎ ይገመታል። ማስገንዘቢያም ይሆን ዘንድ ፓይተን *3* የምንጠቀም ይሆናል።   "
   ]
  },
  {
   "cell_type": "markdown",
   "metadata": {
    "slideshow": {
     "slide_type": "-"
    }
   },
   "source": [
    "# ጥቂት ስለፓይተን"
   ]
  },
  {
   "cell_type": "markdown",
   "metadata": {},
   "source": [
    "ፓይተን ፕሮግራም መጻፍን ለመማር ቀላል የሆነ የኮምፒውተር ቋንቋ ነው። በየትኛው የኮምፒውተር መከወኛ (ኦፕሬቲንግ ሲስተም) ላይ መናገር የሚችል ነው። ዊንዶው፣ ሊነክስ፣ ማክ እንዲሁም በስልካችን ላይ ሁሉ መጠቀም የምንችለው ነው። እኛ ግን የምንጠቀመው በኮምፒውተራችን ላይ ስለሆነ ፓይተን የኮምፒውተር ቋንቅው ኮምፒውተራችሁ ላይ ከሌላችሁ፣ ለመከወኛችሁ ተስማሚ የሆነውን [አናኮንዳን](https://www.anaconda.com/download/) በማውረድ ኮምፒውተራችሁ ላይ መጫን ትችላላችሁ። ፓይተንን ከአናኮንዳ ገጽ ላይ ማውረድ ጠቀሜታው፡\n",
    "* ጁፒተር የተባለውን ኖትቡክ (ማስታወሻ) አዋቅሮ ያወርድላችኋል። \n",
    "* የተለያዩ ሳይንሳዊ ትንተናዎችን ለማድረግ የሚጠቅሙ ተጨማሪ ጥቅል ፕሮግራሞችን አካትቶ ያወርድላችኋል። \n",
    "\n",
    "*ባጠቃላይ አናኮንዳን መጠቀም ተጨማሪ የማዋቀር ድካምን ይቀንሳል።* \n",
    "\n",
    "ኖትቡኩን ለማስነሳት እንደ ምትጠቀሙት መከወኛ ትንሽ ሊለያይ ይችላል። ምሳሌ ዊንዶውስን ለምትጠቀሙ አናኮንዳን ስትጭኑ የሚፈጥረውን ምልክት በመጠቀም ማስነሳት ይቻላል። ሊነክስን ወይም ማክን ለምትጠቀሙ *ተርሚናላችሁን* ከፍታችሁ `jupyter notebook --ip '127.0.0.1' &` በመጻፍ ማስነሳት ትችላላችሁ። ለተጨማሪ [እዚህ](https://jupyter-notebook-beginner-guide.readthedocs.io/en/latest/execute.html) መመልከት ይቻላል። "
   ]
  },
  {
   "cell_type": "markdown",
   "metadata": {},
   "source": [
    "## ፓይተንን ለመደመሪያ መኪናነት መጠቀም"
   ]
  },
  {
   "cell_type": "markdown",
   "metadata": {},
   "source": [
    "### ኢንቲጀር ቁጥሮችን ለመደመር"
   ]
  },
  {
   "cell_type": "code",
   "execution_count": 3,
   "metadata": {},
   "outputs": [
    {
     "data": {
      "text/plain": [
       "4"
      ]
     },
     "execution_count": 3,
     "metadata": {},
     "output_type": "execute_result"
    }
   ],
   "source": [
    "# የፓይተን ገለጻዎች በ '#' ይጀምራሉ። \n",
    "# ሁለት ኢንቲጀር ቁጥሮችን መደመር\n",
    "# 2+2 ይሆናል 4\n",
    "2+2"
   ]
  },
  {
   "cell_type": "markdown",
   "metadata": {},
   "source": [
    "### ኢንቲጀር እና ተንሳፋፊ ቁጥሮችን ለመደመር"
   ]
  },
  {
   "cell_type": "code",
   "execution_count": 4,
   "metadata": {},
   "outputs": [
    {
     "data": {
      "text/plain": [
       "4.0"
      ]
     },
     "execution_count": 4,
     "metadata": {},
     "output_type": "execute_result"
    }
   ],
   "source": [
    "# የተንሳፋፊ ቁጥር ምሳሌ 2.0 ወይም 2.000456\n",
    "# 2+2.0 == 4.0 (ምክኒያቱም ተንሳፋፊ ቁጥር ኢንቲጀርን ስለሚያካትት)\n",
    "2+2.0"
   ]
  },
  {
   "cell_type": "markdown",
   "metadata": {},
   "source": [
    "### ተለዋዋጭን መጠቀም"
   ]
  },
  {
   "cell_type": "markdown",
   "metadata": {},
   "source": [
    "ተለዋዋጭ ወይም ቫሪያብል ማለት በውስጡ የሚያስቀምጠው ዋጋ ወይም ቫልዩ እንደ ሁኔታው የሚወሰን ማለት ነው። ምሳሌ፡\n",
    "* X=2 (X የተለዋዋጭ ስም ሲሆን የሚይዘው ዋጋ በዚህ ምሳሌ ሁለት ይሆናል ማለት ነው።) \n",
    "* በመቀጠል X=4 ብጽፍ፣ የX ዋጋ ከ 2 ወደ 4 ተለወጠ ማለት ነው። \n",
    "\n",
    "ባጭሩ ተለዋዋጭ ማለት የሚይዙት ዋጋ በሚከናወነው ቀመር የሚወሰን ማለት ነው። "
   ]
  },
  {
   "cell_type": "code",
   "execution_count": 2,
   "metadata": {},
   "outputs": [],
   "source": [
    "# ተለዋዋጭን መጠቀም \n",
    "# x=2፣ y=2 \n",
    "x=2\n",
    "y=2"
   ]
  },
  {
   "cell_type": "markdown",
   "metadata": {},
   "source": [
    "የተለዋዋጭን ዋጋ ለመመልከት የተለያዩ አማራጮች አሉ። \n",
    "* በቀጥታ x, y በመጻፍ ውጤቱን መመልከት ይቻላል። ይህም (2, 2) ያሳየናል  \n",
    "* print በመጠቀም print(x,y)። ይህም ውጤቱ ተመሳሳይ 2 2 ያሳየናል"
   ]
  },
  {
   "cell_type": "code",
   "execution_count": 6,
   "metadata": {},
   "outputs": [
    {
     "data": {
      "text/plain": [
       "(2, 2)"
      ]
     },
     "execution_count": 6,
     "metadata": {},
     "output_type": "execute_result"
    }
   ],
   "source": [
    "# x, y በመጻፍ የተለዋዋጮቹን ዋጋ መመልከት \n",
    "x, y"
   ]
  },
  {
   "cell_type": "code",
   "execution_count": 7,
   "metadata": {},
   "outputs": [
    {
     "name": "stdout",
     "output_type": "stream",
     "text": [
      "2 2\n"
     ]
    }
   ],
   "source": [
    "# print(x,y)ን መጠቀም \n",
    "print(x,y)"
   ]
  },
  {
   "cell_type": "markdown",
   "metadata": {},
   "source": [
    "#### የሒሳብ ስሌት መስራት"
   ]
  },
  {
   "cell_type": "markdown",
   "metadata": {},
   "source": [
    "ተለዋዋጭን በመጠቀም መደመር፣ ማባዛት፣ ማካፈል ወይም መቀነስ እንችላለን። ከዚህም በተጨማሪ የላቁ የሒሳብ ስሌቶችን መስራት እንችላለን። የሚከተሉትን ምሳሌዎች እንመልከት። "
   ]
  },
  {
   "cell_type": "code",
   "execution_count": 8,
   "metadata": {},
   "outputs": [
    {
     "name": "stdout",
     "output_type": "stream",
     "text": [
      "4\n"
     ]
    }
   ],
   "source": [
    "# x, y መደመር እና ውጤቱን በ z  ላይ ማስቀመጥ \n",
    "z=x+y\n",
    "print(z)"
   ]
  },
  {
   "cell_type": "code",
   "execution_count": 9,
   "metadata": {},
   "outputs": [
    {
     "name": "stdout",
     "output_type": "stream",
     "text": [
      "4\n"
     ]
    }
   ],
   "source": [
    "# x, y ማባዛት እና ውጤቱን በ z  ላይ ማስቀመጥ \n",
    "z=x*y\n",
    "print(z)"
   ]
  },
  {
   "cell_type": "code",
   "execution_count": 10,
   "metadata": {},
   "outputs": [
    {
     "name": "stdout",
     "output_type": "stream",
     "text": [
      "1.0\n"
     ]
    }
   ],
   "source": [
    "# x, y ማካፈል እና ውጤቱን በ z  ላይ ማስቀመጥ \n",
    "# ማካፈል ክፍልፋዩችን ስለሚያመርት ተለዋዋጩ ወደተንሳፋፊ ተለውጧል። \n",
    "z=x/y\n",
    "print(z)"
   ]
  },
  {
   "cell_type": "code",
   "execution_count": 11,
   "metadata": {},
   "outputs": [
    {
     "name": "stdout",
     "output_type": "stream",
     "text": [
      "0\n"
     ]
    }
   ],
   "source": [
    "# x, y መቀነስ እና ውጤቱን በ z  ላይ ማስቀመጥ \n",
    "z=x-y\n",
    "print(z)"
   ]
  },
  {
   "cell_type": "code",
   "execution_count": 14,
   "metadata": {},
   "outputs": [
    {
     "name": "stdout",
     "output_type": "stream",
     "text": [
      "8\n"
     ]
    }
   ],
   "source": [
    "# xን ስክዌር , yን ስክዌር በማድረግ ድምር ውጤቱን በ z ላይ ማስቀመጥ \n",
    "z=x**2 + y**2\n",
    "print(z)"
   ]
  },
  {
   "cell_type": "code",
   "execution_count": 7,
   "metadata": {},
   "outputs": [
    {
     "name": "stdout",
     "output_type": "stream",
     "text": [
      "2.0\n"
     ]
    }
   ],
   "source": [
    "# yን  በ x ስክዌር በማድረግ, ውጤቱን በ z ላይ ማስቀመጥ \n",
    "z=x**y\n",
    "print(z)"
   ]
  },
  {
   "cell_type": "code",
   "execution_count": 10,
   "metadata": {},
   "outputs": [
    {
     "name": "stdout",
     "output_type": "stream",
     "text": [
      "2.8284271247461903\n"
     ]
    }
   ],
   "source": [
    "# xን ስክዌር , yስክዌር በማድረግ ድምሩን ስር (ስክዌር ሩት) ውስጥ በማስገባት ውጤቱን በ z ላይ ማስቀመጥ\n",
    "# ስክዌር ሩት ማለት ቁጥር በ (1/2) ስክዌር ማድረግ ማለት ነው በሌላ አገላለጽ\n",
    "# pi = 2**(1/2) (1/2) በቅንፍ ውስት ማስቀመጥን ልብ በሉ። \n",
    "# print(pi)\n",
    "z=(x**2 + y**2)**(1/2)\n",
    "print(z)"
   ]
  },
  {
   "cell_type": "markdown",
   "metadata": {},
   "source": [
    "ፓይተንን በመጠቀም እጅግ የላቁ የሂሳብ ስሌቶችን መስራት እንችላለን። ተጨማሪ መጽሀፍትን ጎግል በማድረግ ማንበብ ይቻላል። በሚቀጥለው ክፍል በፓይተን ፕሮግራሚንግ ቋንቋ የሚገኙ መሰረታዊ የሆኑ የውሂብ መዋቅሮችን (ዳታ ስትራክቸር) እንመለከታለን  "
   ]
  },
  {
   "cell_type": "code",
   "execution_count": null,
   "metadata": {},
   "outputs": [],
   "source": []
  }
 ],
 "metadata": {
  "kernelspec": {
   "display_name": "Python 3",
   "language": "python",
   "name": "python3"
  },
  "language_info": {
   "codemirror_mode": {
    "name": "ipython",
    "version": 3
   },
   "file_extension": ".py",
   "mimetype": "text/x-python",
   "name": "python",
   "nbconvert_exporter": "python",
   "pygments_lexer": "ipython3",
   "version": "3.6.7"
  }
 },
 "nbformat": 4,
 "nbformat_minor": 2
}
